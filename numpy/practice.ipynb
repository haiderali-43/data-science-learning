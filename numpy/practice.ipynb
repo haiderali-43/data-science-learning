{
 "cells": [
  {
   "cell_type": "markdown",
   "metadata": {},
   "source": [
    "### Numpy Practice\n",
    "This notebook is a collection of Numpy exercises from the , which can be found [here](https://www.w3resource.com/python-exercises/numpy/index.php). The exercises are meant to help me get familiar with numpy and its functions.\n",
    "\n",
    "Source of Learning  can ne found on [Geeksforgeeks](https://www.geeksforgeeks.org/numpy-tutorial//)"
   ]
  },
  {
   "cell_type": "code",
   "execution_count": 1,
   "metadata": {},
   "outputs": [],
   "source": [
    "#load  libaray\n",
    "import numpy as np\n",
    "import matplotlib.pyplot as plt # type: ignore"
   ]
  },
  {
   "cell_type": "code",
   "execution_count": 3,
   "metadata": {},
   "outputs": [
    {
     "name": "stdout",
     "output_type": "stream",
     "text": [
      "1.26.1\n",
      "Build Dependencies:\n",
      "  blas:\n",
      "    detection method: pkgconfig\n",
      "    found: true\n",
      "    include directory: /c/opt/64/include\n",
      "    lib directory: /c/opt/64/lib\n",
      "    name: openblas64\n",
      "    openblas configuration: USE_64BITINT=1 DYNAMIC_ARCH=1 DYNAMIC_OLDER= NO_CBLAS=\n",
      "      NO_LAPACK= NO_LAPACKE= NO_AFFINITY=1 USE_OPENMP= SKYLAKEX MAX_THREADS=2\n",
      "    pc file directory: C:/opt/64/lib/pkgconfig\n",
      "    version: 0.3.23.dev\n",
      "  lapack:\n",
      "    detection method: internal\n",
      "    found: true\n",
      "    include directory: unknown\n",
      "    lib directory: unknown\n",
      "    name: dep2300277146320\n",
      "    openblas configuration: unknown\n",
      "    pc file directory: unknown\n",
      "    version: 1.26.1\n",
      "Compilers:\n",
      "  c:\n",
      "    commands: cl\n",
      "    linker: link\n",
      "    name: msvc\n",
      "    version: 19.29.30152\n",
      "  c++:\n",
      "    commands: cl\n",
      "    linker: link\n",
      "    name: msvc\n",
      "    version: 19.29.30152\n",
      "  cython:\n",
      "    commands: cython\n",
      "    linker: cython\n",
      "    name: cython\n",
      "    version: 3.0.3\n",
      "Machine Information:\n",
      "  build:\n",
      "    cpu: x86_64\n",
      "    endian: little\n",
      "    family: x86_64\n",
      "    system: windows\n",
      "  host:\n",
      "    cpu: x86_64\n",
      "    endian: little\n",
      "    family: x86_64\n",
      "    system: windows\n",
      "Python Information:\n",
      "  path: C:\\Users\\runneradmin\\AppData\\Local\\Temp\\cibw-run-yh7ulkgn\\cp311-win_amd64\\build\\venv\\Scripts\\python.exe\n",
      "  version: '3.11'\n",
      "SIMD Extensions:\n",
      "  baseline:\n",
      "  - SSE\n",
      "  - SSE2\n",
      "  - SSE3\n",
      "  found:\n",
      "  - SSSE3\n",
      "  - SSE41\n",
      "  - POPCNT\n",
      "  - SSE42\n",
      "  - AVX\n",
      "  not found:\n",
      "  - F16C\n",
      "  - FMA3\n",
      "  - AVX2\n",
      "  - AVX512F\n",
      "  - AVX512CD\n",
      "  - AVX512_SKX\n",
      "  - AVX512_CLX\n",
      "  - AVX512_CNL\n",
      "  - AVX512_ICL\n",
      "\n",
      "None\n"
     ]
    }
   ],
   "source": [
    "# Write a Numpy program to get the Numpy version and show the Numpy build configuration. \n",
    "print(np.__version__)\n",
    "print(np.show_config())"
   ]
  },
  {
   "cell_type": "code",
   "execution_count": 4,
   "metadata": {},
   "outputs": [
    {
     "name": "stdout",
     "output_type": "stream",
     "text": [
      "add(x1, x2, /, out=None, *, where=True, casting='same_kind', order='K', dtype=None, subok=True[, signature, extobj])\n",
      "\n",
      "Add arguments element-wise.\n",
      "\n",
      "Parameters\n",
      "----------\n",
      "x1, x2 : array_like\n",
      "    The arrays to be added.\n",
      "    If ``x1.shape != x2.shape``, they must be broadcastable to a common\n",
      "    shape (which becomes the shape of the output).\n",
      "out : ndarray, None, or tuple of ndarray and None, optional\n",
      "    A location into which the result is stored. If provided, it must have\n",
      "    a shape that the inputs broadcast to. If not provided or None,\n",
      "    a freshly-allocated array is returned. A tuple (possible only as a\n",
      "    keyword argument) must have length equal to the number of outputs.\n",
      "where : array_like, optional\n",
      "    This condition is broadcast over the input. At locations where the\n",
      "    condition is True, the `out` array will be set to the ufunc result.\n",
      "    Elsewhere, the `out` array will retain its original value.\n",
      "    Note that if an uninitialized `out` array is created via the default\n",
      "    ``out=None``, locations within it where the condition is False will\n",
      "    remain uninitialized.\n",
      "**kwargs\n",
      "    For other keyword-only arguments, see the\n",
      "    :ref:`ufunc docs <ufuncs.kwargs>`.\n",
      "\n",
      "Returns\n",
      "-------\n",
      "add : ndarray or scalar\n",
      "    The sum of `x1` and `x2`, element-wise.\n",
      "    This is a scalar if both `x1` and `x2` are scalars.\n",
      "\n",
      "Notes\n",
      "-----\n",
      "Equivalent to `x1` + `x2` in terms of array broadcasting.\n",
      "\n",
      "Examples\n",
      "--------\n",
      ">>> np.add(1.0, 4.0)\n",
      "5.0\n",
      ">>> x1 = np.arange(9.0).reshape((3, 3))\n",
      ">>> x2 = np.arange(3.0)\n",
      ">>> np.add(x1, x2)\n",
      "array([[  0.,   2.,   4.],\n",
      "       [  3.,   5.,   7.],\n",
      "       [  6.,   8.,  10.]])\n",
      "\n",
      "The ``+`` operator can be used as a shorthand for ``np.add`` on ndarrays.\n",
      "\n",
      ">>> x1 = np.arange(9.0).reshape((3, 3))\n",
      ">>> x2 = np.arange(3.0)\n",
      ">>> x1 + x2\n",
      "array([[ 0.,  2.,  4.],\n",
      "       [ 3.,  5.,  7.],\n",
      "       [ 6.,  8., 10.]])\n",
      "None\n"
     ]
    }
   ],
   "source": [
    "#Write a NumPy program to get help with the add function.\n",
    "x = np.info(np.add)\n",
    "print(x)"
   ]
  },
  {
   "cell_type": "code",
   "execution_count": 6,
   "metadata": {},
   "outputs": [
    {
     "name": "stdout",
     "output_type": "stream",
     "text": [
      "[1 2 3 4]\n",
      "True\n",
      "[0 1 2 3]\n",
      "False\n"
     ]
    }
   ],
   "source": [
    "#3. Write a NumPy program to test whether none of the elements of a given array are zero.  \n",
    "a = np.array([1,2,3,4])\n",
    "b = np.array([0,1,2,3])\n",
    "print(a)\n",
    "print(np.all(a))\n",
    "print(b)\n",
    "print(np.all(b))"
   ]
  },
  {
   "cell_type": "code",
   "execution_count": 11,
   "metadata": {},
   "outputs": [
    {
     "name": "stdout",
     "output_type": "stream",
     "text": [
      "[1 2 3 4]\n",
      "True\n",
      "[0 0 0 0]\n",
      "False\n"
     ]
    }
   ],
   "source": [
    "# Write a NumPy program to test if any of the elements of a given array are non-zero.\n",
    "arr1 = np.array([1,2,3,4])\n",
    "arr2 = np.array([0,0,0,0])\n",
    "print(arr1)\n",
    "print(np.any(arr1))\n",
    "print(arr2)\n",
    "print(np.any(arr2))\n"
   ]
  },
  {
   "cell_type": "code",
   "execution_count": 12,
   "metadata": {},
   "outputs": [
    {
     "name": "stdout",
     "output_type": "stream",
     "text": [
      "[ 1.  2.  3. nan]\n",
      "[ True  True  True False]\n"
     ]
    }
   ],
   "source": [
    "#Write a NumPy program to test a given array element-wise for finiteness (not infinity or not a number).\n",
    "\n",
    "arr2 = np.array([1,2,3,np.nan])\n",
    "print(arr2)\n",
    "print(np.isfinite(arr2))"
   ]
  },
  {
   "cell_type": "code",
   "execution_count": 16,
   "metadata": {},
   "outputs": [
    {
     "name": "stdout",
     "output_type": "stream",
     "text": [
      "[ 1.  2. -3. -5. 19.  3. inf]\n",
      "[False False False False False False  True]\n",
      "[False False False False False False False]\n"
     ]
    }
   ],
   "source": [
    "# Write a NumPy program to test elements-wise for positive or negative infinity.\n",
    "arr3 = np.array([1,2, -3, -5, 19, 3,np.inf])\n",
    "print(arr3)\n",
    "print(np.isposinf(arr3))\n",
    "print(np.isneginf(arr3))"
   ]
  },
  {
   "cell_type": "code",
   "execution_count": 17,
   "metadata": {},
   "outputs": [
    {
     "name": "stdout",
     "output_type": "stream",
     "text": [
      "[ 1.  2.  3. nan]\n",
      "[False False False  True]\n"
     ]
    }
   ],
   "source": [
    "# Write a NumPy program to test element-wise for NaN of a given array.\n",
    "arr4 = np.array([1,2,3,np.nan])\n",
    "print(arr4)\n",
    "print(np.isnan(arr4))\n"
   ]
  },
  {
   "cell_type": "code",
   "execution_count": 19,
   "metadata": {},
   "outputs": [
    {
     "name": "stdout",
     "output_type": "stream",
     "text": [
      "[ 1.+0.j  2.+0.j  3.+0.j  4.+0.j  5.+1.j  6.+0.j  7.+0.j  8.+0.j  9.+0.j\n",
      " 10.+0.j]\n",
      "[False False False False  True False False False False False]\n",
      "[ True  True  True  True False  True  True  True  True  True]\n",
      "True\n",
      "False\n"
     ]
    }
   ],
   "source": [
    "# Write a  NumPy program to test element-wise for complex numbers, real numbers in a given array. Also test if a given number is of a scalar type or not.\n",
    "arr5 = np.array([1,2,3,4,5+1j,6,7,8,9,10])\n",
    "print(arr5)\n",
    "print(np.iscomplex(arr5))\n",
    "print(np.isreal(arr5))\n",
    "print(np.isscalar(3))\n",
    "print(np.isscalar([3]))\n"
   ]
  },
  {
   "cell_type": "code",
   "execution_count": 23,
   "metadata": {},
   "outputs": [
    {
     "name": "stdout",
     "output_type": "stream",
     "text": [
      "False\n",
      "False\n"
     ]
    }
   ],
   "source": [
    "# Write a NumPy program to test whether two arrays are element-wise equal within a tolerance.\n",
    "arr6 = np.array([1,2,3,4,5])\n",
    "arr7 = np.array([1,2,10,4,5])\n",
    "print(np.allclose(arr6,arr7))\n",
    "print(np.allclose(arr6,arr7, atol=0.1))"
   ]
  },
  {
   "cell_type": "code",
   "execution_count": 24,
   "metadata": {},
   "outputs": [
    {
     "name": "stdout",
     "output_type": "stream",
     "text": [
      "[False False False False False]\n",
      "[ True  True False  True  True]\n",
      "[False False  True False False]\n",
      "[ True  True  True  True  True]\n"
     ]
    }
   ],
   "source": [
    "# Write a NumPy program to create an element-wise comparison (greater, greater_equal, less and less_equal) of two given arrays.\n",
    "arr8 = np.array([1,2,3,4,5])\n",
    "arr9 = np.array([1,2,10,4,5])\n",
    "print(np.greater(arr8,arr9))\n",
    "print(np.greater_equal(arr8,arr9))\n",
    "print(np.less(arr8,arr9))\n",
    "print(np.less_equal(arr8,arr9))\n",
    "\n"
   ]
  },
  {
   "cell_type": "code",
   "execution_count": 25,
   "metadata": {},
   "outputs": [
    {
     "name": "stdout",
     "output_type": "stream",
     "text": [
      "[ True  True False  True  True]\n"
     ]
    }
   ],
   "source": [
    "# Write a  NumPy program to create an element-wise comparison (equal, equal within a tolerance) of two given arrays. \n",
    "arr10 = np.array([1,2,3,4,5])\n",
    "arr11 = np.array([1,2,10,4,5])\n",
    "print(np.equal(arr10,arr11))\n"
   ]
  },
  {
   "cell_type": "code",
   "execution_count": 33,
   "metadata": {},
   "outputs": [
    {
     "name": "stdout",
     "output_type": "stream",
     "text": [
      "16 bytes\n"
     ]
    }
   ],
   "source": [
    "# Write a NumPy program to create an array with the values 1, 7, 13, 105 and determine the size of the memory occupied by the array. \n",
    "arr11 = np.array([1,7,13,105])\n",
    "print(\"%d bytes\" % (arr11.size * arr11.itemsize)) "
   ]
  },
  {
   "cell_type": "code",
   "execution_count": 3,
   "metadata": {},
   "outputs": [
    {
     "name": "stdout",
     "output_type": "stream",
     "text": [
      "[0. 0. 0. 0. 0. 0. 0. 0. 0. 0.]\n",
      "[1. 1. 1. 1. 1. 1. 1. 1. 1. 1.]\n",
      "[5. 5. 5. 5. 5. 5. 5. 5. 5. 5.]\n"
     ]
    }
   ],
   "source": [
    "\n",
    "#Write a NumPy program to create an array of 10 zeros, 10 ones, and 10 fives.  \n",
    "arr12 = np.zeros(10)\n",
    "print(arr12)\n",
    "arr13 = np.ones(10)\n",
    "print(arr13)\n",
    "arr14 = np.ones(10)*5\n",
    "print(arr14)\n"
   ]
  },
  {
   "cell_type": "code",
   "execution_count": 4,
   "metadata": {},
   "outputs": [
    {
     "name": "stdout",
     "output_type": "stream",
     "text": [
      "[30 31 32 33 34 35 36 37 38 39 40 41 42 43 44 45 46 47 48 49 50 51 52 53\n",
      " 54 55 56 57 58 59 60 61 62 63 64 65 66 67 68 69 70]\n"
     ]
    }
   ],
   "source": [
    "#  Write a NumPy program to create an array of integers from 30 to 70. \n",
    "arr14 = np.arange(30,71)\n",
    "print(arr14)"
   ]
  },
  {
   "cell_type": "code",
   "execution_count": 9,
   "metadata": {},
   "outputs": [
    {
     "name": "stdout",
     "output_type": "stream",
     "text": [
      "[30 32 34 36 38 40 42 44 46 48 50 52 54 56 58 60 62 64 66 68 70]\n"
     ]
    }
   ],
   "source": [
    "# Write a NumPy program to create an array of all even integers from 30 to 70.\n",
    "arr15 = np.arange(30,71,2)\n",
    "print(arr15)"
   ]
  },
  {
   "cell_type": "code",
   "execution_count": 14,
   "metadata": {},
   "outputs": [
    {
     "name": "stdout",
     "output_type": "stream",
     "text": [
      "[[1. 0. 0.]\n",
      " [0. 1. 0.]\n",
      " [0. 0. 1.]]\n"
     ]
    }
   ],
   "source": [
    "# Write a NumPy program to create a 3x3 identity matrix. \n",
    "arr16 = np.identity(3)\n",
    "print(arr16)"
   ]
  },
  {
   "cell_type": "code",
   "execution_count": 18,
   "metadata": {},
   "outputs": [
    {
     "name": "stdout",
     "output_type": "stream",
     "text": [
      "[-1.29932867]\n"
     ]
    }
   ],
   "source": [
    "# Write a NumPy program to generate a random number between 0 and 1. \n",
    "arr17 = np.random.normal(0,1,1)\n",
    "print(arr17)"
   ]
  },
  {
   "cell_type": "code",
   "execution_count": 2,
   "metadata": {},
   "outputs": [
    {
     "name": "stdout",
     "output_type": "stream",
     "text": [
      "[ 0.33787959  0.86094364 -0.30979504  1.42011989 -1.71156217  0.95874455\n",
      " -0.80417521  0.8177373   0.36069969 -0.23484703  1.20506942  1.72180142\n",
      " -2.93006046 -0.70228486 -1.61762032]\n"
     ]
    }
   ],
   "source": [
    "# Write a NumPy program to generate an array of 15 random numbers from a standard normal distribution.\n",
    "arr18 = np.random.normal(0,1,15)\n",
    "print(arr18)"
   ]
  },
  {
   "cell_type": "code",
   "execution_count": 3,
   "metadata": {},
   "outputs": [
    {
     "name": "stdout",
     "output_type": "stream",
     "text": [
      "[16 17 18 19 20 21 22 23 24 25 26 27 28 29 30 31 32 33 34 35 36 37 38 39\n",
      " 40 41 42 43 44 45 46 47 48 49 50 51 52 53]\n"
     ]
    }
   ],
   "source": [
    "# Write a NumPy program to create a vector with values ranging from 15 to 55 and print all values except the first and last. \n",
    "arr19 = np.arange(15,55)\n",
    "print(arr19[1:-1])"
   ]
  },
  {
   "cell_type": "code",
   "execution_count": 19,
   "metadata": {},
   "outputs": [
    {
     "name": "stdout",
     "output_type": "stream",
     "text": [
      "10 11 12 13 14 15 16 17 18 19 20 21 "
     ]
    }
   ],
   "source": [
    "arr20 =  np.arange(10, 22).reshape((3, 4))\n",
    "for i in np.nditer(arr20):\n",
    "    print(i, end=' ')\n"
   ]
  },
  {
   "cell_type": "code",
   "execution_count": 20,
   "metadata": {},
   "outputs": [
    {
     "name": "stdout",
     "output_type": "stream",
     "text": [
      "[14. 15. 16. 17.]\n"
     ]
    }
   ],
   "source": []
  }
 ],
 "metadata": {
  "kernelspec": {
   "display_name": "Python 3",
   "language": "python",
   "name": "python3"
  },
  "language_info": {
   "codemirror_mode": {
    "name": "ipython",
    "version": 3
   },
   "file_extension": ".py",
   "mimetype": "text/x-python",
   "name": "python",
   "nbconvert_exporter": "python",
   "pygments_lexer": "ipython3",
   "version": "3.11.4"
  }
 },
 "nbformat": 4,
 "nbformat_minor": 2
}
